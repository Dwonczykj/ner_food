{
 "cells": [
  {
   "cell_type": "code",
   "execution_count": 1,
   "metadata": {},
   "outputs": [],
   "source": [
    "import os"
   ]
  },
  {
   "cell_type": "code",
   "execution_count": 3,
   "metadata": {},
   "outputs": [
    {
     "data": {
      "text/plain": [
       "('hello', '.png')"
      ]
     },
     "execution_count": 3,
     "metadata": {},
     "output_type": "execute_result"
    }
   ],
   "source": [
    "filePath = \"hello.png\"\n",
    "os.path.splitext(os.path.basename(filePath)) # ('hello', '.png')\n",
    "fileNamePart = os.path.splitext(os.path.basename(filePath))[0]\n",
    "fileExtensionPart = os.path.splitext(os.path.basename(filePath))[1]\n",
    "fileNamePart, fileExtensionPart # ('hello', '.png')"
   ]
  },
  {
   "cell_type": "code",
   "execution_count": 4,
   "metadata": {},
   "outputs": [],
   "source": [
    "import pydot\n",
    "import os\n",
    "\n",
    "from tree_node import TreeRootNodeBase\n",
    " \n",
    "os.environ[\"PATH\"] += os.pathsep + \"/usr/local/Cellar/graphviz/2.50.0/bin\""
   ]
  },
  {
   "cell_type": "code",
   "execution_count": 22,
   "metadata": {},
   "outputs": [],
   "source": [
    "graph = pydot.Dot('my_graph', graph_type='graph', bgcolor='yellow')\n",
    "\n"
   ]
  },
  {
   "cell_type": "code",
   "execution_count": 23,
   "metadata": {},
   "outputs": [],
   "source": [
    "# Add nodes\n",
    "my_node = pydot.Node('a', label='Foo')\n",
    "graph.add_node(my_node)\n",
    "# Or, without using an intermediate variable:\n",
    "graph.add_node(pydot.Node('b', shape='circle'))\n"
   ]
  },
  {
   "cell_type": "code",
   "execution_count": 24,
   "metadata": {},
   "outputs": [],
   "source": [
    "\n",
    "# Add edges\n",
    "my_edge = pydot.Edge('a', 'b', color='blue')\n",
    "graph.add_edge(my_edge)\n",
    "# Or, without using an intermediate variable:\n",
    "graph.add_edge(pydot.Edge('b', 'c', color='blue'))\n",
    "\n",
    "graph.add_edge(pydot.Edge('b', 'd', style='dotted'))\n"
   ]
  },
  {
   "cell_type": "code",
   "execution_count": 25,
   "metadata": {},
   "outputs": [],
   "source": [
    "\n",
    "graph.set_bgcolor('lightyellow')\n",
    "graph.get_node('b')[0].set_shape('box')\n"
   ]
  },
  {
   "cell_type": "code",
   "execution_count": 26,
   "metadata": {},
   "outputs": [],
   "source": [
    "\n",
    "graph.write_png(\"Hello.png\")"
   ]
  },
  {
   "cell_type": "code",
   "execution_count": 6,
   "metadata": {},
   "outputs": [],
   "source": [
    "from IPython.display import Image, display"
   ]
  },
  {
   "cell_type": "code",
   "execution_count": 7,
   "metadata": {},
   "outputs": [],
   "source": [
    "def view_pydot(pdot: pydot.Dot):\n",
    "  plt = Image(pdot.create_png())\n",
    "  display(plt)"
   ]
  },
  {
   "cell_type": "code",
   "execution_count": 27,
   "metadata": {},
   "outputs": [
    {
     "data": {
      "image/png": "[encoded data removed]",
      "text/plain": [
       "<IPython.core.display.Image object>"
      ]
     },
     "metadata": {},
     "output_type": "display_data"
    }
   ],
   "source": [
    "view_pydot(graph)"
   ]
  },
  {
   "cell_type": "code",
   "execution_count": 28,
   "metadata": {},
   "outputs": [
    {
     "data": {
      "text/plain": [
       "'a'"
      ]
     },
     "execution_count": 28,
     "metadata": {},
     "output_type": "execute_result"
    }
   ],
   "source": [
    "my_node.get_name()"
   ]
  },
  {
   "cell_type": "code",
   "execution_count": 29,
   "metadata": {},
   "outputs": [],
   "source": [
    "import uuid"
   ]
  },
  {
   "cell_type": "code",
   "execution_count": null,
   "metadata": {},
   "outputs": [],
   "source": []
  },
  {
   "cell_type": "code",
   "execution_count": 30,
   "metadata": {},
   "outputs": [],
   "source": [
    "my_node = pydot.Node(str(uuid.uuid4()), label='Bar')\n",
    "guid = my_node.get_name()"
   ]
  },
  {
   "cell_type": "code",
   "execution_count": null,
   "metadata": {},
   "outputs": [],
   "source": [
    "graph.add_node(my_node)"
   ]
  },
  {
   "cell_type": "code",
   "execution_count": 31,
   "metadata": {},
   "outputs": [
    {
     "data": {
      "text/plain": [
       "'\"a6abfac6-cc6a-4fd7-913a-d4cdc0cc2e73\"'"
      ]
     },
     "execution_count": 31,
     "metadata": {},
     "output_type": "execute_result"
    }
   ],
   "source": [
    "my_node.get_name()"
   ]
  },
  {
   "cell_type": "code",
   "execution_count": null,
   "metadata": {},
   "outputs": [],
   "source": []
  },
  {
   "cell_type": "code",
   "execution_count": 32,
   "metadata": {},
   "outputs": [
    {
     "data": {
      "image/png": "[encoded data removed]",
      "text/plain": [
       "<IPython.core.display.Image object>"
      ]
     },
     "metadata": {},
     "output_type": "display_data"
    }
   ],
   "source": [
    "view_pydot(graph)"
   ]
  },
  {
   "cell_type": "code",
   "execution_count": 39,
   "metadata": {},
   "outputs": [],
   "source": [
    "import pydot\n",
    "import os\n",
    "import uuid\n",
    "\n",
    "from tree_node import TreeRootNodeBase\n",
    " \n",
    "os.environ[\"PATH\"] += os.pathsep + \"/usr/local/Cellar/graphviz/2.50.0/bin\""
   ]
  },
  {
   "cell_type": "code",
   "execution_count": 1,
   "metadata": {},
   "outputs": [],
   "source": [
    "import pytest\n",
    "\n",
    "from tree_draw import draw_new_tree, save, view_graph\n",
    "\n",
    "from tree_node import TreeNode\n"
   ]
  },
  {
   "cell_type": "code",
   "execution_count": null,
   "metadata": {},
   "outputs": [],
   "source": []
  },
  {
   "cell_type": "code",
   "execution_count": 2,
   "metadata": {},
   "outputs": [],
   "source": [
    "\n",
    "def _generate_child_node(level:int, childNo: int):\n",
    "    return TreeNode(name=f'TreeNode_Layer_{level}_child{childNo}')\n",
    "\n",
    "def _build_complex_tree():\n",
    "    tree = TreeNode(name='RootTreeNode')\n",
    "    layer1 = [_generate_child_node(1, i+1) for i in range(2)]\n",
    "    for i,n in enumerate(layer1):\n",
    "        tree.appendChild(n)\n",
    "        numChildren = 2\n",
    "        layer2n = [_generate_child_node(2,(i*numChildren)+j+1) for j in range(numChildren)]\n",
    "        for j,nn in enumerate (layer2n):\n",
    "            n.appendChild(nn)\n",
    "    return tree\n"
   ]
  },
  {
   "cell_type": "code",
   "execution_count": 3,
   "metadata": {},
   "outputs": [
    {
     "data": {
      "image/png": "[encoded data removed]",
      "text/plain": [
       "<IPython.core.display.Image object>"
      ]
     },
     "metadata": {},
     "output_type": "display_data"
    }
   ],
   "source": [
    "\n",
    "\n",
    "tree = _build_complex_tree()\n",
    "graph = draw_new_tree(tree)\n",
    "dotString = graph.to_string()\n",
    "# print(dotString)\n",
    "# assert dotString == 'graph G {\\nrankdir=UD;\\n\"c50ba588-6164-4f4d-83e6-50ce839d8e01\" -- \"599f28a1-5a8b-49d1-ada4-293b376be495\";\\n\"599f28a1-5a8b-49d1-ada4-293b376be495\" -- \"594d08cf-0a50-44c5-a81e-035f1b3628e6\";\\n\"599f28a1-5a8b-49d1-ada4-293b376be495\" -- \"34b16164-e80d-40e4-b335-7b51958950d4\";\\n\"c50ba588-6164-4f4d-83e6-50ce839d8e01\" -- \"73ced6d6-fdde-4870-8b16-96fb5b3e40cc\";\\n\"73ced6d6-fdde-4870-8b16-96fb5b3e40cc\" -- \"2a4ef4de-fa56-411e-893c-39cd41927c4a\";\\n\"73ced6d6-fdde-4870-8b16-96fb5b3e40cc\" -- \"a8c5bae2-4dab-470d-814b-61760d31c304\";\\n}\\n'\n",
    "view_graph(graph)"
   ]
  },
  {
   "cell_type": "code",
   "execution_count": 38,
   "metadata": {},
   "outputs": [],
   "source": [
    "save(graph,\"Hello.png\")"
   ]
  },
  {
   "cell_type": "code",
   "execution_count": null,
   "metadata": {},
   "outputs": [],
   "source": []
  }
 ],
 "metadata": {
  "interpreter": {
   "hash": "9f4003a6f4f4930cec957c503d403f367cb04c65d97ce44169013cc6cb2a3350"
  },
  "kernelspec": {
   "display_name": "Python 3.9.7 64-bit ('nlp1': conda)",
   "language": "python",
   "name": "python3"
  },
  "language_info": {
   "codemirror_mode": {
    "name": "ipython",
    "version": 3
   },
   "file_extension": ".py",
   "mimetype": "text/x-python",
   "name": "python",
   "nbconvert_exporter": "python",
   "pygments_lexer": "ipython3",
   "version": "3.9.7"
  },
  "orig_nbformat": 4
 },
 "nbformat": 4,
 "nbformat_minor": 2
}
