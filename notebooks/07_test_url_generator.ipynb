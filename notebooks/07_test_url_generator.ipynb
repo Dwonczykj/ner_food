{
 "cells": [
  {
   "cell_type": "code",
   "execution_count": null,
   "metadata": {},
   "outputs": [],
   "source": []
  },
  {
   "cell_type": "code",
   "execution_count": 12,
   "metadata": {},
   "outputs": [],
   "source": [
    "import io\n",
    "import os\n",
    "import re\n",
    "from pprint import pprint"
   ]
  },
  {
   "cell_type": "code",
   "execution_count": 11,
   "metadata": {},
   "outputs": [
    {
     "name": "stdout",
     "output_type": "stream",
     "text": [
      "{'asda': {'cafe': True,\n",
      "          'fuel': ['APG'],\n",
      "          'goods': {'groceries': {'rest of the world': ['Greek Yoghurt']},\n",
      "                    'hardware': {'kitchen appliances': ['microwave']}}}}\n",
      "{'asda': {'fuel': ['petrol', 'diesel'],\n",
      "          'goods': {'groceries': {'fresh': ['banana', 'tomatoes']},\n",
      "                    'hardware': {'electrical': ['TV']}}},\n",
      " 'restaurant': True}\n",
      "{'goodbye', 'hello'}\n"
     ]
    }
   ],
   "source": [
    "dict1 = {\n",
    "    'asda':{\n",
    "        'goods':{\n",
    "            'groceries': {\n",
    "                'fresh': ['banana', 'tomatoes']\n",
    "            },\n",
    "            'hardware': {\n",
    "                'electrical': ['TV']\n",
    "            },\n",
    "        },\n",
    "        'fuel': ['petrol', 'diesel'],\n",
    "    }\n",
    "}\n",
    "\n",
    "dict2 = {\n",
    "    'asda':{\n",
    "        'goods':{\n",
    "            'groceries': {\n",
    "                'rest of the world': ['Greek Yoghurt']\n",
    "            },\n",
    "            'hardware': {\n",
    "                'kitchen appliances': ['microwave']\n",
    "            },\n",
    "        },\n",
    "        'fuel': ['APG'],\n",
    "        'cafe': True\n",
    "    }\n",
    "}\n",
    "\n",
    "dict3 = {\n",
    "    'tobaccanist': False\n",
    "}\n",
    "\n",
    "dict4 = {\n",
    "    'restaurant': True\n",
    "}\n",
    "\n",
    "pprint({**dict1, **dict2})\n",
    "\n",
    "# pprint({**dict1, **{d for d in [dict2, dict3, dict4]}})\n",
    "\n",
    "def _mergeDicts(x:list[dict]) -> dict:\n",
    "        if not x:\n",
    "            return {}\n",
    "        if len(x) == 1:\n",
    "            return x[0]\n",
    "        res = x[0]\n",
    "        return [{**res, **sx} for sx in x[1:]][-1]\n",
    "    \n",
    "pprint(_mergeDicts([dict1, dict2, dict3, dict4]))\n",
    "    \n",
    "    \n",
    "l1 = set(['hello', 'goodbye', 'fantastic'])\n",
    "l2 = set(['hippo', 'fantastic'])\n",
    "print(l1 - l2)"
   ]
  },
  {
   "cell_type": "code",
   "execution_count": 16,
   "metadata": {},
   "outputs": [
    {
     "name": "stdout",
     "output_type": "stream",
     "text": [
      "/Users/joeyd/Documents/JoeyDCareer/GitHub/MasteringSpacy/Spacy_Tutorials/ner_food_ingredients/notebooks\n"
     ]
    },
    {
     "data": {
      "text/plain": [
       "('/Users/joeyd/Documents/JoeyDCareer/GitHub/MasteringSpacy/Spacy_Tutorials/ner_food_ingredients/notebooks',\n",
       " '/Users/joeyd/Documents/JoeyDCareer/GitHub/MasteringSpacy/Spacy_Tutorials/ner_food_ingredients')"
      ]
     },
     "execution_count": 16,
     "metadata": {},
     "output_type": "execute_result"
    }
   ],
   "source": [
    "# Current WD\n",
    "wd = os.getcwd()\n",
    "\n",
    "# Directory containing the current PYTHON file, only works on .py\n",
    "# dir_path = os.path.dirname(os.path.realpath(__file__))\n",
    "\n",
    "# (\"change the current working directory to path\")\n",
    "# os.chdir(path) \n",
    "\n",
    "print(os.path.expanduser(wd))\n",
    "\n",
    "\n",
    "def getParent1(dir):\n",
    "    return os.path.dirname(dir)\n",
    "\n",
    "def getParent2(dir):\n",
    "    return os.path.join(dir, '..')\n",
    "\n",
    "def getParent3(dir):\n",
    "    # os.pardir ==  '..' so we need abspath to convert from relative path\n",
    "    return os.path.abspath(os.path.join(dir, os.pardir))\n",
    "\n",
    "\n",
    "wd, getParent3(wd)"
   ]
  },
  {
   "cell_type": "code",
   "execution_count": 22,
   "metadata": {},
   "outputs": [],
   "source": [
    "Template_Anchor = lambda A_HREF: f\"<a href='{A_HREF}'>Gember Anchor Link to {A_HREF}</a>\"\n",
    "Template_Button = lambda A_HREF: \"<button onClick='(function(){window.open(\\\"\" + A_HREF + \"\\\")}())'>Open Doc: \" + A_HREF[A_HREF.rindex('/'):] + \"</button>\"\n",
    "Template_Script = lambda script_X, A_HREF :f'''<p class='jstest' id='{script_X}'>y u bad tho? <i>{script_X} not laoded correctly.</i></p>\n",
    "        <script>\n",
    "            document.getElementById('{script_X}').innerHTML = \"Look at you shinin! </br>Access -> {Template_Anchor(A_HREF)} enabled. <br/><i>{script_X} laoded correctly.</i>\";\n",
    "        </script>'''\n"
   ]
  },
  {
   "cell_type": "code",
   "execution_count": 23,
   "metadata": {},
   "outputs": [],
   "source": [
    "# def generate_html_template():\n",
    "template = '../assets/test/bs4_tester_template.html'\n",
    "\n",
    "template_html:str = ''\n",
    "with open(template, 'r') as f:\n",
    "    template_html = f.read()\n",
    "    \n",
    "\n",
    "file_path = lambda filename: os.path.join(os.path.abspath(os.path.join(os.getcwd(), os.pardir)), f'assets/test/html/{filename}.html')\n",
    "    \n",
    "template_fill = '\\n<br/>'.join((Template_Anchor(file_path('html_test_'+str(s))) for s in range(10)))\n",
    "\n",
    "template_html = template_html.replace('ANCHORTAGS', template_fill)\n",
    "\n",
    "template_fill = '\\n<br/>'.join((Template_Button(file_path('html_test_'+str(s))) for s in range(10)))\n",
    "\n",
    "template_html = template_html.replace('BUTTONTAGS', template_fill)\n",
    "\n",
    "template_fill = '\\n<br/>'.join((Template_Script(f'Script_{str(s)}',file_path(f'html_test_{str(s)}')) for s in range(10)))\n",
    "\n",
    "template_html = template_html.replace('SCRIPTTAGS', template_fill)\n",
    "\n"
   ]
  },
  {
   "cell_type": "code",
   "execution_count": 24,
   "metadata": {},
   "outputs": [],
   "source": [
    "\n",
    "for s in range(10):\n",
    "    template_html_copy = template_html.replace('REPLACE_TITLE', f'Test Html Document: {s}')\n",
    "    with open(file_path(f'html_test_{s}'), 'w') as f:\n",
    "        f.write(template_html_copy)\n",
    "    \n",
    "    "
   ]
  },
  {
   "cell_type": "code",
   "execution_count": 17,
   "metadata": {},
   "outputs": [
    {
     "data": {
      "text/plain": [
       "['nodes', 'hello', 'there']"
      ]
     },
     "execution_count": 17,
     "metadata": {},
     "output_type": "execute_result"
    }
   ],
   "source": [
    "query = '''\n",
    "        UNWIND $nodes AS node\n",
    "        MERGE (n:Node {id: node.id}) \n",
    "            ON CREATE SET n.name = node.name\n",
    "            ON CREATE SET n.data = node.data\n",
    "        \n",
    "        // Connect to children $hello $there\n",
    "        WITH distinct node, n // reduce cardinality\n",
    "        UNWIND node.children as childNode\n",
    "        MATCH (c:Node {id: childNode.id})\n",
    "        MERGE (n)-[:HAS_CHILD]->(c)\n",
    "        RETURN count(distinct n) as total\n",
    "        '''\n",
    "params = {\n",
    "    'nodes': []\n",
    "}\n",
    "\n",
    "paramsInQuery = re.findall(r'\\$([0-9A-Za-z]+)', query)\n",
    "paramsInQuery"
   ]
  },
  {
   "cell_type": "code",
   "execution_count": null,
   "metadata": {},
   "outputs": [],
   "source": []
  }
 ],
 "metadata": {
  "interpreter": {
   "hash": "9f4003a6f4f4930cec957c503d403f367cb04c65d97ce44169013cc6cb2a3350"
  },
  "kernelspec": {
   "display_name": "Python 3.9.7 64-bit ('nlp1': conda)",
   "language": "python",
   "name": "python3"
  },
  "language_info": {
   "codemirror_mode": {
    "name": "ipython",
    "version": 3
   },
   "file_extension": ".py",
   "mimetype": "text/x-python",
   "name": "python",
   "nbconvert_exporter": "python",
   "pygments_lexer": "ipython3",
   "version": "3.9.7"
  },
  "orig_nbformat": 4
 },
 "nbformat": 4,
 "nbformat_minor": 2
}
