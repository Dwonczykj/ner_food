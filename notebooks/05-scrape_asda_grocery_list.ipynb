{
 "cells": [
  {
   "cell_type": "code",
   "execution_count": 39,
   "metadata": {},
   "outputs": [],
   "source": [
    "import spacy\n",
    "from bs4 import BeautifulSoup, SoupStrainer, Tag, NavigableString, ResultSet"
   ]
  },
  {
   "cell_type": "code",
   "execution_count": 2,
   "metadata": {},
   "outputs": [],
   "source": [
    "from gensim.models import KeyedVectors;"
   ]
  },
  {
   "cell_type": "code",
   "execution_count": 3,
   "metadata": {},
   "outputs": [],
   "source": [
    "from os import path\n",
    "import io\n",
    "import os\n",
    "import re\n",
    "import requests\n",
    "import numpy as np\n",
    "import matplotlib.pyplot as plt\n",
    "from collections import defaultdict"
   ]
  },
  {
   "cell_type": "code",
   "execution_count": 4,
   "metadata": {},
   "outputs": [],
   "source": [
    "from sklearn.decomposition import PCA"
   ]
  },
  {
   "cell_type": "code",
   "execution_count": 5,
   "metadata": {},
   "outputs": [],
   "source": [
    "nlp = spacy.load('en_core_web_md')"
   ]
  },
  {
   "cell_type": "code",
   "execution_count": 6,
   "metadata": {},
   "outputs": [],
   "source": [
    "#load vectors directly from file\n",
    "gensim_model = KeyedVectors.load_word2vec_format(path.join(path.expanduser('~'), \n",
    "                                                           'Dev', \n",
    "                                                           'word2vec', \n",
    "                                                           'GoogleNews-Vectors-Negative300.bin'), \n",
    "                                                 binary=True)"
   ]
  },
  {
   "cell_type": "code",
   "execution_count": 7,
   "metadata": {},
   "outputs": [],
   "source": [
    "grocery_gen_wrds=['groceries']"
   ]
  },
  {
   "cell_type": "code",
   "execution_count": 8,
   "metadata": {},
   "outputs": [
    {
     "data": {
      "text/plain": [
       "[('grocery', 0.7232317328453064),\n",
       " ('grocery_store', 0.6671785712242126),\n",
       " ('Susan_Warmbier', 0.6374872922897339),\n",
       " ('grocery_stores', 0.6255874633789062),\n",
       " ('Groceries', 0.6193972229957581)]"
      ]
     },
     "execution_count": 8,
     "metadata": {},
     "output_type": "execute_result"
    }
   ],
   "source": [
    "most_sim = gensim_model.most_similar(positive=grocery_gen_wrds, topn=5)\n",
    "most_sim"
   ]
  },
  {
   "cell_type": "code",
   "execution_count": 9,
   "metadata": {},
   "outputs": [],
   "source": [
    "def display_pca_scatterplot(model, words=None, sample=0):\n",
    "    if words == None:\n",
    "        if sample > 0:\n",
    "            words = np.random.choice(list(model.vocab.keys()), sample)\n",
    "        else:\n",
    "            words = [ word for word in model.vocab ]\n",
    "        \n",
    "    word_vectors = np.array([model[w] for w in words])\n",
    "\n",
    "    twodim = PCA().fit_transform(word_vectors)[:,:2]\n",
    "    \n",
    "    plt.figure(figsize=(6,6))\n",
    "    plt.scatter(twodim[:,0], twodim[:,1], edgecolors='k', c='r')\n",
    "    for word, (x,y) in zip(words, twodim):\n",
    "        plt.text(x+0.05, y+0.05, word)"
   ]
  },
  {
   "cell_type": "code",
   "execution_count": 10,
   "metadata": {},
   "outputs": [
    {
     "data": {
      "image/png": "[encoded data removed]",
      "text/plain": [
       "<Figure size 432x432 with 1 Axes>"
      ]
     },
     "metadata": {
      "needs_background": "light"
     },
     "output_type": "display_data"
    }
   ],
   "source": [
    "display_pca_scatterplot(gensim_model, grocery_gen_wrds + [w[0]for w in most_sim])"
   ]
  },
  {
   "cell_type": "code",
   "execution_count": 37,
   "metadata": {},
   "outputs": [],
   "source": [
    "# use the webscraper environment\n",
    "# to be run the first time you use:\n",
    "# ! safaridriver --enable\n",
    "# ! /usr/bin/safaridriver -p 1337</\n",
    "#Simple assignment"
   ]
  },
  {
   "cell_type": "code",
   "execution_count": 11,
   "metadata": {},
   "outputs": [],
   "source": [
    "from selenium.webdriver import Safari\n",
    "from selenium import webdriver\n",
    "from selenium.webdriver.common.by import By\n",
    "# driver.find_element(By.XPATH, '//button[text()=\"Some text\"]')\n",
    "# ID = \"id\"\n",
    "# XPATH = \"xpath\"\n",
    "# LINK_TEXT = \"link text\"\n",
    "# PARTIAL_LINK_TEXT = \"partial link text\"\n",
    "# NAME = \"name\"\n",
    "# TAG_NAME = \"tag name\"\n",
    "# CLASS_NAME = \"class name\"\n",
    "# CSS_SELECTOR = \"css selector\""
   ]
  },
  {
   "cell_type": "code",
   "execution_count": 28,
   "metadata": {},
   "outputs": [],
   "source": [
    "driver = Safari()\n",
    "# implicit wait\n",
    "# driver.manage().timeouts().implicitlyWait(5)\n",
    "driver.implicitly_wait(10)"
   ]
  },
  {
   "cell_type": "code",
   "execution_count": 32,
   "metadata": {},
   "outputs": [],
   "source": [
    "def nth_of_type(elem:Tag):\n",
    "    count, curr = 0, 0\n",
    "    for i, e in enumerate(elem.find_parent().find_all(recursive=False), 1):\n",
    "        if e.name == elem.name:\n",
    "            count += 1\n",
    "        if e == elem:\n",
    "            curr = i\n",
    "    return '' if count == 1 else ':nth-child({})'.format(curr)\n",
    "\n",
    "def _getElemSelector(elem:Tag):\n",
    "    selector = elem.name\n",
    "    # otherAttrs = set(elem.attrs.keys()).difference('class')\n",
    "    if elem['class']:\n",
    "        selector += '.' + '.'.join(elem['class'])\n",
    "\n",
    "    for otherAtr in elem.attrs.keys():\n",
    "        if isinstance(elem[otherAtr], list) and otherAtr == 'class':\n",
    "            pass\n",
    "        else:\n",
    "            selector += f'[{otherAtr}=\"{elem[otherAtr]}\"]'\n",
    "    \n",
    "    if str(elem.string) and not elem.children:\n",
    "        selector += f':contains(\"{elem.text}\")'\n",
    "    \n",
    "    return selector# + nth_of_type(elem)\n",
    "\n",
    "def getCssPath(elem, maxTreeSize = 100):\n",
    "    if elem.attrs.get('id'):\n",
    "        return '#' + elem.attrs['id']\n",
    "\n",
    "    rv = [_getElemSelector(elem)]\n",
    "    _i = 0\n",
    "    while _i < maxTreeSize:\n",
    "        _i += 1\n",
    "        elem = elem.find_parent()\n",
    "        if not elem or elem.name == '[document]':\n",
    "            return '>'.join(rv[::-1])\n",
    "        elif _i >= maxTreeSize:\n",
    "            return ' ... ' + ' > '.join(rv[::-1])\n",
    "        elif elem.attrs.get('id'):\n",
    "            return '#' + elem.attrs['id'] + ' > '.join(rv[::-1])\n",
    "            \n",
    "        rv.append(_getElemSelector(elem))"
   ]
  },
  {
   "cell_type": "code",
   "execution_count": 55,
   "metadata": {},
   "outputs": [],
   "source": [
    "def seleniumTryClickWebEl(wElem):\n",
    "    clickSuccess = False\n",
    "    try:\n",
    "        wElem.click()\n",
    "        clickSuccess = True\n",
    "    except Exception as e:\n",
    "        clickSuccess = False\n",
    "\n",
    "    return clickSuccess\n",
    "\n",
    "def selenium_click_css(cssSelector):\n",
    "    success = False\n",
    "    webEl = driver.find_element_by_css_selector(cssSelector)\n",
    "    if webEl:\n",
    "        if webEl.is_displayed():\n",
    "            if seleniumTryClickWebEl(webEl):\n",
    "                driver.execute_script(f'document.querySelector(\\'{cssSelector}\\').click()')\n",
    "                success = True\n",
    "    return success\n",
    "\n",
    "def selenium_click_webEl(webEl):\n",
    "    success = False\n",
    "    if webEl.is_displayed():\n",
    "        if seleniumTryClickWebEl(webEl):\n",
    "            if webEl.has_attribute('id'):\n",
    "                _id = webEl.get_attribute('id')\n",
    "                driver.execute_script(f'document.getElementById(\\'{_id}\\').click()')\n",
    "            else:\n",
    "                cssSelector = getCssPath(webEl)\n",
    "                selenium_click_css(cssSelector)\n",
    "            success = True\n",
    "\n",
    "    return success\n",
    "\n",
    "def find_and_agree_cookies(driver:Safari):\n",
    "    _f = lambda btnText: f\"//*[text()='{btnText}']\"\n",
    "    agreebtns = driver.find_elements_by_xpath(_f('I agree'))\n",
    "    btn_ids= None\n",
    "    if agreebtns:\n",
    "        btn_ids = [agreebtn.get_attribute('id') for agreebtn in agreebtns]\n",
    "    if not btn_ids:\n",
    "        agreebtns = driver.find_elements_by_xpath(_f('Allow All'))\n",
    "        if agreebtns:\n",
    "            btn_ids = [agreebtn.get_attribute('id') for agreebtn in agreebtns]\n",
    "\n",
    "    for btn_id in btn_ids:\n",
    "        btn = driver.find_element_by_id(btn_id)\n",
    "        if btn.is_displayed():\n",
    "            if seleniumTryClickWebEl(btn):\n",
    "                # driver.execute_script(f'$(\\'#{btn_id}\\').click()')\n",
    "                driver.execute_script(f'document.getElementById(\\'{btn_id}\\').click()')"
   ]
  },
  {
   "cell_type": "code",
   "execution_count": 29,
   "metadata": {},
   "outputs": [],
   "source": [
    "driver.get('https://groceries.asda.com')\n"
   ]
  },
  {
   "cell_type": "code",
   "execution_count": 30,
   "metadata": {},
   "outputs": [],
   "source": [
    "find_and_agree_cookies(driver)"
   ]
  },
  {
   "cell_type": "code",
   "execution_count": null,
   "id": "990750ac",
   "metadata": {},
   "outputs": [],
   "source": [
    "# driver.get('https://groceries.asda.com/product/natural-plain-organic/fage-total-fat-free-greek-recipe-natural-yogurt/24771357')"
   ]
  },
  {
   "cell_type": "code",
   "execution_count": 41,
   "id": "e40825a4",
   "metadata": {},
   "outputs": [],
   "source": [
    "leveledQuerySelects = {\n",
    "    0:['Groceries'],\n",
    "    1:['Food', 'Pharmaceuticals', 'Departments', 'Offers', 'Sale'],\n",
    "    2:[\n",
    "        'Fruit', 'Veg', 'Vegetables', 'Salad', 'Meat', 'Poultry',\n",
    "        'Fish', 'Legumes', 'Frozen', 'Organic', 'Free from', 'Cupboard',\n",
    "        'Vegan', 'Plant', 'Drinks', 'Alcohol', 'Beer', 'Wine', 'Spirits',\n",
    "        'Home', 'Entertainment', 'Health', 'Beauty', 'Laundry', 'Household',\n",
    "        'Pet', 'Baby', 'Children'\n",
    "    ]\n",
    "}\n"
   ]
  },
  {
   "cell_type": "code",
   "execution_count": 38,
   "metadata": {},
   "outputs": [],
   "source": [
    "\n",
    "allHtmlText = driver.page_source # str(driver.find_element_by_xpath(\"/html/body\").get_attribute('outerHTML'))\n",
    "no_script_tags = SoupStrainer(re.compile(r'^(h[1234])|(input)|(p)|(button)$'))\n",
    "soup = BeautifulSoup(allHtmlText, 'html.parser', parse_only=no_script_tags)\n",
    "# print(soup.prettify())\n",
    "\n",
    "# for s in soup.find_all(re.compile(r'^(h[1234])|(input)|(p)$')):\n",
    "#     print(s.prettify())\n",
    "# soup = remove_tags(soup)"
   ]
  },
  {
   "cell_type": "code",
   "execution_count": 87,
   "id": "2845dffb",
   "metadata": {},
   "outputs": [
    {
     "data": {
      "text/plain": [
       "'<a class=\"asda-link asda-link--secondary footer__anchor\" data-auto-id=\"footer-link-groceries-app\" target=\"_self\" href=\"/event/mobile-app\" data-di-id=\"di-id-373118c4-bb636f8a\">Groceries App</a>'"
      ]
     },
     "execution_count": 87,
     "metadata": {},
     "output_type": "execute_result"
    }
   ],
   "source": [
    "# GroceriesBtn = driver.find_element_by_partial_link_text('Groceries')\n"
   ]
  },
  {
   "cell_type": "code",
   "execution_count": null,
   "metadata": {},
   "outputs": [],
   "source": [
    "# from pprint import pprint"
   ]
  },
  {
   "cell_type": "code",
   "execution_count": null,
   "metadata": {},
   "outputs": [],
   "source": [
    "# # - - - - - - - - - - - - - - - - - - - - - - - - - - - - - - - - - - - - - - - - - - - - - - - - \n",
    "# allText = soup.get_text()\n",
    "# # keeping only tagger component needed for lemmatization\n",
    "# nlp = spacy.load('en_core_web_md')#,  disable=[\"parser\", \"ner\"])\n",
    "\n",
    "# doc = nlp(allText)\n",
    "# most_sim_lwr = [w[0].lower() for w in most_sim]\n",
    "# lemmaInds = [ind for ind, tkn in enumerate(doc) if [tkn.lemma_.lower() in ss for ss in most_sim_lwr]]\n",
    "# # - - - - - - - - - - - - - - - - - - - - - - - - - - - - - - - - - - - - - - - - - - - - - - - - \n",
    "# matchTexts = []\n",
    "# if lemmaInds:\n",
    "#     matchTexts = [doc[ind].text for ind in lemmaInds]\n",
    "# # - - - - - - - - - - - - - - - - - - - - - - - - - - - - - - - - - - - - - - - - - - - - - - - - \n",
    "\n",
    "# htmlSoupLoc = 0"
   ]
  },
  {
   "cell_type": "code",
   "execution_count": 60,
   "metadata": {},
   "outputs": [
    {
     "name": "stdout",
     "output_type": "stream",
     "text": [
      "Matched no words from: Fruit, Veg, Vegetables, Salad, Meat, Poultry, Fish, Legumes, Frozen, Organic, Free from, Cupboard, Vegan, Plant, Drinks, Alcohol, Beer, Wine, Spirits, Home, Entertainment, Health, Beauty, Laundry, Household, Pet, Baby, Children\n",
      "Matched no words from: Food, Pharmaceuticals, Departments, Offers, Sale\n",
      "Failed to click element button.asda-btn.asda-btn--clear.asda-btn--fluid.navigation-menu__item.navigation-menu__item--active[data-auto-id=\"buttonMenuItem\"][type=\"button\"][aria-expanded=\"true\"][aria-haspopup=\"menu\"]>span.navigation-menu__text\n"
     ]
    }
   ],
   "source": [
    "def matchWords(searchTerms):\n",
    "    \n",
    "    tagNavStrArr = None\n",
    "    for sTerm in searchTerms:\n",
    "        if tagNavStrArr:\n",
    "            tagNavStrArr = tagNavStrArr.append(soup.find_all(text=sTerm))\n",
    "        else:\n",
    "            tagNavStrArr = soup.find_all(text=sTerm)\n",
    "    \n",
    "    \n",
    "    cssPaths = []\n",
    "    if tagNavStrArr:\n",
    "        for tagNavStr in tagNavStrArr:\n",
    "            tag = tagNavStr.parent\n",
    "            cssPath = getCssPath(tagNavStr.parent)\n",
    "            wElem = driver.find_element_by_css_selector(cssPath)\n",
    "            if wElem.is_displayed():\n",
    "                cssPaths += [cssPath]\n",
    "\n",
    "    return cssPaths\n",
    "\n",
    "def clickPaths(cssPaths):\n",
    "    anySuccesses = False\n",
    "    if cssPaths:\n",
    "        for cssPath in cssPaths:\n",
    "            succeeded = False\n",
    "            if driver.find_element_by_css_selector(cssPath):\n",
    "                succeeded = selenium_click_css(cssPath)\n",
    "                if not succeeded:\n",
    "                    print(f'Failed to click element {cssPath}')\n",
    "            else:\n",
    "                break\n",
    "            anySuccesses = (anySuccesses or succeeded)\n",
    "    else:\n",
    "        print('Matched no words from: ' + ', '.join(searchTerms))\n",
    "    return anySuccesses\n",
    "\n",
    "\n",
    "ind = 2\n",
    "while ind > -1:\n",
    "    searchTerms = leveledQuerySelects[ind]\n",
    "    cssPaths = matchWords(searchTerms)\n",
    "    anySuccesses = clickPaths(cssPaths)\n",
    "\n",
    "    if not anySuccesses:\n",
    "        ind -= 1\n",
    "        continue\n"
   ]
  },
  {
   "cell_type": "code",
   "execution_count": 46,
   "metadata": {},
   "outputs": [],
   "source": [
    "\n"
   ]
  },
  {
   "cell_type": "code",
   "execution_count": 51,
   "metadata": {},
   "outputs": [],
   "source": [
    "wElem = driver.find_element_by_css_selector(cssPaths[0])\n",
    "\n",
    "\n"
   ]
  },
  {
   "cell_type": "code",
   "execution_count": 52,
   "metadata": {},
   "outputs": [
    {
     "data": {
      "text/plain": [
       "False"
      ]
     },
     "execution_count": 52,
     "metadata": {},
     "output_type": "execute_result"
    }
   ],
   "source": []
  },
  {
   "cell_type": "code",
   "execution_count": 56,
   "metadata": {},
   "outputs": [
    {
     "name": "stdout",
     "output_type": "stream",
     "text": [
      "Failed to click element button.asda-btn.asda-btn--clear.asda-btn--fluid.navigation-menu__item.navigation-menu__item--active[data-auto-id=\"buttonMenuItem\"][type=\"button\"][aria-expanded=\"true\"][aria-haspopup=\"menu\"]>span.navigation-menu__text\n"
     ]
    }
   ],
   "source": [
    "\n"
   ]
  },
  {
   "cell_type": "code",
   "execution_count": null,
   "metadata": {},
   "outputs": [],
   "source": []
  },
  {
   "cell_type": "code",
   "execution_count": null,
   "metadata": {},
   "outputs": [
    {
     "name": "stdout",
     "output_type": "stream",
     "text": [
      "[<span class=\"navigation-menu__text\">Groceries</span>, <span class=\"navigation-menu__text\">Offers</span>]\n",
      "button.asda-btn.asda-btn--clear.asda-btn--fluid.navigation-menu__item[data-auto-id=\"buttonMenuItem\"][type=\"button\"][aria-expanded=\"false\"][aria-haspopup=\"menu\"]>span.navigation-menu__text\n",
      "<selenium.webdriver.remote.webelement.WebElement (session=\"9790F2CA-9FE1-4CE5-A7D0-6484B39BCDCE\", element=\"node-69DB405D-1517-4382-A605-2DC87DEC07D9\")>\n"
     ]
    }
   ],
   "source": [
    "# for tagNavStr in tagNavStrArr:\n",
    "#     # print(type(tagNavStr))\n",
    "#     tag = tagNavStr.parent\n",
    "#     # form: cssSelector: tagname.className1.classname2#id{'<attribute>'=<value>}\n",
    "    \n",
    "#     # actual selector: #root > div.layout > nav > div > div:nth-child(1) > button > span.navigation-menu__text\n",
    "#     #! Issue is that Soup is Strained and so doesnt have the full tree.\n",
    "#     cssPath = getCssPath(tagNavStr.parent) # ->  [document] > button > span (which should be otherway round anyhow)\n",
    "#     print(BeautifulSoup(allHtmlText, 'html.parser').select(cssPath))\n",
    "#     print(cssPath)\n",
    "#     # tag = tagNavStr.parent\n",
    "#     # s = ''\n",
    "#     # for _ in range(7):\n",
    "#     #     s = tag.name + ' > ' + s\n",
    "#     #     tag = tag.parent\n",
    "#     #     if not tag:\n",
    "#     #         break\n",
    "#     # print(s)\n",
    "\n",
    "#     wElem = driver.find_element_by_css_selector(cssPath)\n",
    "#     print(wElem)\n"
   ]
  },
  {
   "cell_type": "code",
   "execution_count": null,
   "metadata": {},
   "outputs": [],
   "source": [
    "# selenium_click_css(cssPath)"
   ]
  },
  {
   "cell_type": "code",
   "execution_count": 110,
   "metadata": {},
   "outputs": [],
   "source": [
    "\n",
    "# driver.get('https://groceries.asda.com')"
   ]
  },
  {
   "cell_type": "code",
   "execution_count": 103,
   "metadata": {},
   "outputs": [],
   "source": [
    "only_header_tags = SoupStrainer(re.compile('h[1234]'))\n",
    "\n",
    "def minTabsAndLines(pretty_soup_dont_process):\n",
    "    pretty_soup_dont_process = re.sub(r'\\n\\t+', ' ', pretty_soup_dont_process)\n",
    "    # pretty_soup_dont_process = re.sub(r'\\t', '-', pretty_soup_dont_process)\n",
    "    # pretty_soup_dont_process = re.sub(r'\\n', '*', pretty_soup_dont_process)\n",
    "    pretty_soup_dont_process = re.sub(r'\\t+', '\\t', pretty_soup_dont_process)\n",
    "    pretty_soup_dont_process = re.sub(r'\\n+', '\\n', pretty_soup_dont_process)\n",
    "    return pretty_soup_dont_process"
   ]
  },
  {
   "cell_type": "code",
   "execution_count": null,
   "metadata": {},
   "outputs": [],
   "source": []
  },
  {
   "cell_type": "code",
   "execution_count": 100,
   "metadata": {},
   "outputs": [],
   "source": [
    "def wordLocator(page, word, webDriver:Safari=None):\n",
    "    '''\n",
    "    Page: str (weblink | html) | BeautifulSoup\n",
    "    '''\n",
    "    soup = BeautifulSoup()\n",
    "    if isinstance(page, str):\n",
    "        if re.match(r'http.*', page):\n",
    "            print('URL passed')\n",
    "            URL = page\n",
    "            if webDriver:\n",
    "                webDriver.get(URL)\n",
    "                body_html_el = webDriver.find_element_by_xpath(\"/html\")\n",
    "                body_html = body_html_el.get_attribute('outerHTML')\n",
    "                soup = BeautifulSoup(body_html, 'html.parser')\n",
    "            else:\n",
    "                print('No Webdriver passed, use Bs4')\n",
    "                # http://www.xhaus.com/headers -> View your headers in browser\n",
    "                headers = {\"User-agent\": 'Mozilla/5.0 (Macintosh; Intel Mac OS X 10_15_7) AppleWebKit/537.36 (KHTML, like Gecko) Chrome/96.0.4664.55 Safari/537.36 Edg/96.0.1054.43'}\n",
    "                page = requests.get(URL, headers=headers)\n",
    "                # print(page.content)\n",
    "                soup = BeautifulSoup(page.content, 'html.parser')\n",
    "            page_text = soup.get_text()\n",
    "        else:\n",
    "            soup = BeautifulSoup(page, 'html.parser')\n",
    "            page_text = page\n",
    "    elif isinstance(page, BeautifulSoup):\n",
    "        soup = page\n",
    "        page_text = soup.get_text()\n",
    "    \n",
    "    #TODO: Find the xpath of the word within the page\n",
    "    output = ''\n",
    "    blacklist = [\n",
    "        '[document]',\n",
    "        'noscript',\n",
    "        \n",
    "        'head', \n",
    "        \n",
    "        'script',\n",
    "        # there may be more elements you don't want, such as \"style\", etc.\n",
    "    ]\n",
    "    \n",
    "    soup.find_all('Groceries')\n",
    "    soup.find()\n",
    "\n",
    "    text = soup.find_all(re.compile('h[1234]'), text=True)\n",
    "    for t in text:\n",
    "        if t.parent.name not in blacklist:\n",
    "            output += '{} '.format(t)\n",
    "        elif t.text in word:\n",
    "            output += '{} '.format(t)\n",
    "    return output\n",
    "\n",
    "    "
   ]
  },
  {
   "cell_type": "code",
   "execution_count": null,
   "id": "990750ac",
   "metadata": {},
   "outputs": [],
   "source": []
  },
  {
   "cell_type": "code",
   "execution_count": 101,
   "metadata": {},
   "outputs": [
    {
     "name": "stdout",
     "output_type": "stream",
     "text": [
      "URL passed\n",
      "Fage Total Fat Free Greek Recipe Natural Yogurt - ASDA Groceries\n",
      "\n",
      "\n",
      "\n",
      "\n",
      "<iframe src=\"https://www.googletagmanager.com/ns.html?id=GTM-MDCJ74D\" height=\"0\" width=\"0\" style=\"display: none;visibility: hidden\"></iframe>Skip to Main ContentSign Inbreadcrumb Chilled Food /breadcrumb Yogurts & Desserts /breadcrumb Yogurts & Fromage Frais /breadcrumb Natural, Plain & Organic Use + and - keys to zoom in and out, arrow keys move the zoomed portion of the imageMouse over image for a closer look.Sponsored products you might like8x115gActivia Mixed Fruit Gut Health Yogurt now £3.00(32.6p/100g)Add4 pintASDA Semi Skimmed Milk now £1.15(50.7p/lt)Add1lCravendale Semi Skimmed Milk now £1.25(£1.25/lt)Add2lCravendale Whole Milk now £1.90(95.0p/lt)Add4x115gLight & Free Fat Free Greek Style Strawberry Yogurts now £2.00(43.5p/100g)Add100gASDA Extra Special Serrano Ham now £2.00was  £2.25(£2.00/100g)RollBackAdd250gViolife Vioblock Salted Vegan Butter Alternative now £2.00(£8.00/kg)Add500gAlpro Vanilla Soya Yogurt Alternative now £1.60(32.0p/100g)Add185gPort Salut Cheese now £2.00(£10.81/kg)Add10x20gTwix Chocolate Biscuit Low Calorie Snack Bars Multipack now £2.00(£1.00/100g)AddFage Total Fat Free Greek Recipe Natural Yogurt500g★★★★★★★★★★(50+)Product code: 1936863 now £2.75(55.0p/100g)AddFavouriteAdd to listView rest of shelf\n",
      " DescriptionReviews (67)Net Content500 GramsLife StyleGluten free. No Added Sugar. Suitable for Vegetarians. Allergy AdviceContains: Milk.AdditivesFree From: Additives, Preservatives. IngredientsPasteurised Skimmed Milk, Live Active Yoghurt Cultures (L. Bulgaricus, S. Thermophilus, L. Acidophilus, Bifidus, L. Casei)Nutritional ValuesTypical valuesper 100Energy230 kJ (54 kcal)Fat0 g of which saturates0 gCarbohydrate3.0 g of which sugars3.0 gProtein10.3 gSalt0.10 gCalcium120 mg%NRV*15%*Nutrient Reference ValuesFeatures3g sugars, 10.3g protein, 54 kcal per 100g. 0% fat. No added sugar - contains only naturally occurring milk sugar. Made with only milk and yoghurt cultures. High in protein. Source of calcium. Gluten-free. Additive and preservative free. Vegetarian Society Approved.StorageKeep Refrigerated/Do Not Freeze/use By: See LidOnce Opened Consume Within 5 DaysStorage And Usage StatementsDo Not Freeze. Keep Refrigerated.Brand MarketingPronounced: Fa-Yeh!Other InformationMilk origin: EUPreparation and UsageRemove paper disc on openingRegulated Product NameNatural Fat Free Greek Recipe Strained YoghurtStorage TypeChilledThird Party LogoGreen Dot. Vegetarian Society Approved. Manufacturer AddressFAGE International S.A.,145, Rue du Kiem,L-8030 Strassen,Luxembourg.Return ToFAGE International S.A.,145, Rue du Kiem,L-8030 Strassen,Luxembourg.uk.fageASDA Product Information\n",
      "        At ASDA, we do everything we can to make sure the information about the products we sell is\n",
      "        always as accurate as possible. However, because products are regularly improved, the\n",
      "        product information, ingredients, nutritional guides and dietary or allergy advice may\n",
      "        occasionally change.\n",
      "      \n",
      "        As a result, we recommend that you always read the label carefully before using or consuming\n",
      "        any products. Please do not solely rely on the information provided on this website Because\n",
      "        of this, ASDA is unable to accept liability for any inaccuracies or incorrect information\n",
      "        contained on this site.\n",
      "      \n",
      "        This does not affect your statutory rights. This information is supplied for personal use\n",
      "        only. It must not be reproduced in any way whatsoever without the prior consent of ASDA, nor\n",
      "        without due acknowledgement.\n",
      "      \n",
      "        In-store availability, prices and promotions may vary from those online. Please check with\n",
      "        your local store before visiting.\n",
      "      Back to topWebsite FeedbackAbout AsdaStore locatorOpens a new windowAbout AsdaOpens a new windowAsda CareersOpens a new windowClick & CollectYour PassGroceries AppMore Asda WebsitesGeorgeOpens a new windowPhoto PrintsOpens a new windowAsda MobileOpens a new windowTravel MoneyOpens a new windowAsda TyresOpens a new windowOpticiansOpens a new windowBreakdown CoverOpens a new windowCredit CardOpens a new windowGift CardsCar InsuranceOpens a new windowHome InsuranceOpens a new windowPet InsuranceOpens a new windowAsda MagazineOpens a new windowtoyouOpens a new windowHelp & Customer service Ask AsdaHelp CentreOpens a new windowHow to shopProduct recallsOpens a new windowFacebookOpens a new windowTwitterOpens a new window© ASDA 2021Terms & ConditionsPrivacy PolicyOpens a new windowSite mapOpens a new windowAsda Company DetailsOpens a new windowCookie SettingsAccessibility<iframe src=\"//s.thebrighttag.com/iframe?c=eI7jAuz\" width=\"1\" height=\"1\" frameborder=\"0\" scrolling=\"no\" marginheight=\"0\" marginwidth=\"0\"></iframe>\n",
      "\n",
      "\n",
      "\n",
      "\n",
      "\n",
      "\n",
      "\n"
     ]
    },
    {
     "data": {
      "text/plain": [
       "'<h3 class=\"co-product__title pdp-personal-recs__prod-title\"><a class=\"co-product__anchor\" data-auto-id=\"linkProductTitle\" data-di-id=\"di-id-51c8922f-379a8c7\" href=\"/product/1000290068605?origin=/product/natural-plain-organic/fage-total-fat-free-greek-recipe-natural-yogurt/24771357\">Activia Mixed Fruit Gut Health Yogurt</a></h3> <h3 class=\"co-product__title pdp-personal-recs__prod-title\"><a class=\"co-product__anchor\" data-auto-id=\"linkProductTitle\" data-di-id=\"di-id-ba8dc4fa-c0afc28b\" href=\"/product/20504?origin=/product/natural-plain-organic/fage-total-fat-free-greek-recipe-natural-yogurt/24771357\">ASDA Semi Skimmed Milk</a></h3> <h3 class=\"co-product__title pdp-personal-recs__prod-title\"><a class=\"co-product__anchor\" data-auto-id=\"linkProductTitle\" data-di-id=\"di-id-9b3975c5-3ad8d9bb\" href=\"/product/32088739?origin=/product/natural-plain-organic/fage-total-fat-free-greek-recipe-natural-yogurt/24771357\">Cravendale Semi Skimmed Milk</a></h3> <h3 class=\"co-product__title pdp-personal-recs__prod-title\"><a class=\"co-product__anchor\" data-auto-id=\"linkProductTitle\" data-di-id=\"di-id-ba8dc4fa-fd3142e9\" href=\"/product/36887?origin=/product/natural-plain-organic/fage-total-fat-free-greek-recipe-natural-yogurt/24771357\">Cravendale Whole Milk</a></h3> <h3 class=\"co-product__title pdp-personal-recs__prod-title\"><a class=\"co-product__anchor\" data-auto-id=\"linkProductTitle\" data-di-id=\"di-id-51c8922f-67a0768a\" href=\"/product/910002325420?origin=/product/natural-plain-organic/fage-total-fat-free-greek-recipe-natural-yogurt/24771357\">Light &amp; Free Fat Free Greek Style Strawberry Yogurts</a></h3> <h3 class=\"co-product__title pdp-personal-recs__prod-title\"><a class=\"co-product__anchor\" data-auto-id=\"linkProductTitle\" data-di-id=\"di-id-51c8922f-4a852d8d\" href=\"/product/910001069642?origin=/product/natural-plain-organic/fage-total-fat-free-greek-recipe-natural-yogurt/24771357\">ASDA Extra Special Serrano Ham</a></h3> <h3 class=\"co-product__title pdp-personal-recs__prod-title\"><a class=\"co-product__anchor\" data-auto-id=\"linkProductTitle\" data-di-id=\"di-id-51c8922f-2747941f\" href=\"/product/1000312047259?origin=/product/natural-plain-organic/fage-total-fat-free-greek-recipe-natural-yogurt/24771357\">Violife Vioblock Salted Vegan Butter Alternative</a></h3> <h3 class=\"co-product__title pdp-personal-recs__prod-title\"><a class=\"co-product__anchor\" data-auto-id=\"linkProductTitle\" data-di-id=\"di-id-51c8922f-e8281baf\" href=\"/product/910000429544?origin=/product/natural-plain-organic/fage-total-fat-free-greek-recipe-natural-yogurt/24771357\">Alpro Vanilla Soya Yogurt Alternative</a></h3> <h3 class=\"co-product__title pdp-personal-recs__prod-title\"><a class=\"co-product__anchor\" data-auto-id=\"linkProductTitle\" data-di-id=\"di-id-9b3975c5-94ef0371\" href=\"/product/24771300?origin=/product/natural-plain-organic/fage-total-fat-free-greek-recipe-natural-yogurt/24771357\">Port Salut Cheese</a></h3> <h3 class=\"co-product__title pdp-personal-recs__prod-title\"><a class=\"co-product__anchor\" data-auto-id=\"linkProductTitle\" data-di-id=\"di-id-51c8922f-b1560671\" href=\"/product/1000268222903?origin=/product/natural-plain-organic/fage-total-fat-free-greek-recipe-natural-yogurt/24771357\">Twix Chocolate Biscuit Low Calorie Snack Bars Multipack</a></h3> <h1 class=\"pdp-main-details__title\">Fage Total Fat Free Greek Recipe Natural Yogurt</h1> '"
      ]
     },
     "execution_count": 101,
     "metadata": {},
     "output_type": "execute_result"
    }
   ],
   "source": [
    "wordLocator('https://groceries.asda.com/product/natural-plain-organic/fage-total-fat-free-greek-recipe-natural-yogurt/24771357',\n",
    "            'Groceries', webDriver=driver)"
   ]
  },
  {
   "cell_type": "code",
   "execution_count": 177,
   "id": "e40825a4",
   "metadata": {},
   "outputs": [],
   "source": [
    "# Function to remove tags\n",
    "def remove_tags(soup):\n",
    "  \n",
    "    for data in soup(['style', 'script']):\n",
    "        # Remove tags\n",
    "        data.decompose()\n",
    "  \n",
    "    # return data by retrieving the tag content\n",
    "    # return ' '.join(soup.stripped_strings)\n",
    "    return soup\n"
   ]
  },
  {
   "cell_type": "code",
   "execution_count": null,
   "metadata": {},
   "outputs": [],
   "source": [
    "\n",
    "matchLocations = defaultdict(list)\n",
    "tagNavStr = None\n",
    "# for text in matchTexts:\n",
    "#     # newMatchInd = allHtmlText.find(text, start=htmlSoupLoc)\n",
    "#     tagNavStr = soup.find(text=re.compile(text, re.I))\n",
    "#     newMatchInd = tagNavStr.index\n",
    "#     matchLocations[text] = matchLocations[text] + [newMatchInd]\n",
    "\n",
    "\n",
    "if matchTexts:\n",
    "    text = matchTexts[0]\n",
    "    tagNavStrArr = soup.find_all(text=re.compile(text, re.I))\n",
    "    for tagNavStr in tagNavStrArr:\n",
    "        newMatchInd = tagNavStr.index()\n",
    "        matchLocations[text] = matchLocations[text] + [newMatchInd]\n",
    "\n",
    "\n"
   ]
  },
  {
   "cell_type": "code",
   "execution_count": 227,
   "metadata": {},
   "outputs": [
    {
     "data": {
      "text/plain": [
       "[<span class=\"navigation-menu__text\">Groceries</span>]"
      ]
     },
     "execution_count": 227,
     "metadata": {},
     "output_type": "execute_result"
    }
   ],
   "source": [
    "# with open('test.html', 'w') as f:\n",
    "#     f.write(soup.prettify())\n",
    "[s.parent for s in soup.find_all(text='Groceries')]"
   ]
  },
  {
   "cell_type": "code",
   "execution_count": 232,
   "metadata": {},
   "outputs": [
    {
     "name": "stdout",
     "output_type": "stream",
     "text": [
      "[('grocery', 0.7232317328453064), ('grocery_store', 0.6671785712242126), ('Susan_Warmbier', 0.6374872922897339), ('grocery_stores', 0.6255874633789062), ('Groceries', 0.6193972229957581)]\n",
      "['<', 'iframe', 'src=\"https://www.googletagmanager.com', '/', 'ns.html?id', '=', 'GTM', '-', 'MDCJ74D', '\"', 'height=\"0', '\"', 'width=\"0', '\"', 'style=\"display', ':', 'none;visibility', ':', 'hidden\"></iframe', '>', 'GroceriesRecipesOffersFavouritesDelivery', 'Passfor', 'the', 'best', 'experience', '.', 'New', 'to', 'Asda', '?', 'Check', 'what', \"'s\", 'in', 'your', 'local', 'storeSee', 'delivery', 'and', 'collection', 'optionsCheck', '\\n          ', 'Book', 'now', '\\n        \\n            ', 'Shop', 'now', '\\n          \\n            ', 'Shop', 'now', '\\n          \\n            ', 'More', 'info', '\\n          \\n            ', 'Shop', 'now', '\\n          ', 'each3', ' ', 'for', ' ', '2View', 'allLynx', 'Africa', 'Duo', 'Gift', 'Set', 'now', '£', '3.00(£3.00', '/', 'each)Addeach3', ' ', 'for', ' ', '2View', 'allNivea', 'Luxurious', 'Lip', 'Balm', 'Gift', 'Set', 'for', 'Her', 'now', '£', '4.00(£4.00', '/', 'each)AddeachBaileys', 'The', 'Original', 'Irish', 'Cream', 'and', 'Premium', 'Tumblers', '★', '★', '★', '★', '★', '★', '★', '★', '★', '★', '(2', ')', 'now', '£', '12.00(£12.00', '/', 'each)AddeachGordon', \"'s\", 'Premium', 'Pink', ',', 'Balloon', 'Glass', 'and', 'Botanicals', '(', 'Subject', 'to', 'availability)', '★', '★', '★', '★', '★', '(1', ')', 'now', '£', '8.00(£8.00', '/', 'each)AddeachGeorge', 'Home', 'Christmas', 'Eve', 'Box', 'now', '£', '2.00(£2.00', '/', 'each)AddeachCadbury', 'Selection', 'Box', '&', 'Tube', 'BundleContains', '2', 'itemsBundle', 'now', '£', '3.75525gFerrero', 'Rocher', 'Rocher', 'Gift', 'Box', 'of', 'Chocolate', '42', 'Pieces', '★', '★', '★', '★', '★', '(8)RollBackwas', '\\xa0', '£', '11.00', 'now', '(', '£', '1.90/100g)Add147gTerry', \"'s\", 'Chocolate', 'Orange', 'Exploding', 'Candy', '★', '★', '★', '★', '★', '★', '★', '★', '★', '★', '(10', ')', 'now', '£', '1.00(68.0p/100g)Add337gLindt', 'Lindor', 'Milk', 'Chocolate', 'Truffles', 'Box', '★', '★', '★', '★', '★', '★', '★', '★', '★', '★', '(50', '+', ')', 'now', '£', '5.50(£1.63/100g)Addeach3', ' ', 'for', ' ', '2View', 'allBook', 'of', 'Treats', 'Gift', 'Set', 'now', '£', '8.00(£8.00', '/', 'each)AddeachYankee', 'Candle', 'Home', 'Inspiration', ' ', 'Apple', 'Cinnamon', 'Cider', 'Medium', 'Jar', '★', '★', '★', '★', '★', '★', '★', '★', '★', '★', '(50)RollBackwas', '\\xa0', '£', '9.97', 'now', '(', '£', '6.00', '/', 'each)AddeachTwister', 'TwisterRollBackwas', '\\xa0', '£', '16.97', 'now', '(', '£', '13.00', '/', 'each)Add130gASDA', 'Extra', 'Special', 'Italian', 'Biscuit', 'Selection', '★', '★', '★', '★', '★', '★', '★', '★', '★', '★', '(9)RollBackwas', '\\xa0', '£', '3.00', 'now', '(', '£', '1.92/100g)Add75clBuy', '6', 'save', '25%View', 'allASDA', 'Extra', 'Special', 'Mulled', 'Wine', '★', '★', '★', '★', '★', '★', '★', '★', '★', '★', '(15)RollBackwas', '\\xa0', '£', '5.00', 'now', '(', '£', '4.50/75c3)Add6pkAny', '2', 'for', '£', '3View', 'allASDA', 'Extra', 'Special', 'Luxury', 'Mince', 'Pies', '★', '★', '★', '★', '★', '★', '★', '★', '★', '★', '(50', '+', ')', 'now', '£', '1.75(29.2p', '/', 'each)Add70clASDA', 'Extra', 'Special', 'Parma', 'Violet', 'Gin', '★', '★', '★', '★', '★', '★', '★', '★', '★', '★', '(38)RollBackwas', '\\xa0', '£', '18.00', 'now', '(', '£', '22.86', '/', 'lt)Add400gASDA', 'Extra', 'Special', '9', 'Month', 'Matured', 'Luxury', 'Christmas', 'Pudding', '★', '★', '★', '★', '★', '(5)New', 'now', '£', '4.50(£1.12/100g)Add320gAny', '2', 'for', '£', '2View', 'allASDA', 'Extra', 'Special', 'Caramelised', 'Onion', 'Chutney', '★', '★', '★', '★', '★', '★', '★', '★', '★', '★', '(44', ')', 'now', '£', '1.50(46.9p/100g)Addper', 'kgASDA', 'Extra', 'Special', 'Lamb', 'Chump', 'Joint', '(', 'Typically', '370g)', '★', '★', '★', '★', '★', '★', '★', '★', '★', '★', '(50+)RollBack', 'now', '£', '3.68', 'was', '\\xa0', '£', '11.99', '/kg(£9.95', '/', 'kg)Add132gASDA', 'Extra', 'Special', '12', 'Macaron', 'Selection', '★', '★', '★', '★', '★', '★', '★', '★', '★', '★', '(43', ')', 'now', '£', '3.00(£2.27/100g)Add75clBuy', '6', 'save', '25%View', 'allASDA', 'Extra', 'Special', 'Organic', 'Prosecco', 'Brut', '★', '★', '★', '★', '★', '★', '★', '★', '★', '★', '(24)RollBackwas', '\\xa0', '£', '7.50', 'now', '(', '£', '7.00/75c3)Add750mlASDA', 'Extra', 'Special', 'Apple', '&', 'Elderflower', 'Pressé', '★', '★', '★', '★', '★', '★', '★', '★', '★', '★', '(4', ')', 'now', '£', '2.00(26.7p/100ml)Add100gASDA', 'Extra', 'Special', 'Parmesan', '&', 'Garlic', 'Mini', 'Twists', '★', '★', '★', '★', '★', '★', '★', '★', '★', '★', '(11', ')', 'now', '£', '1.50(£1.50/100g)Add75clBuy', '6', 'save', '25%View', 'allASDA', 'Extra', 'Special', 'Chateauneuf', '-', 'du', '-', 'Pape', '★', '★', '★', '★', '★', '★', '★', '★', '★', '★', '(16', ')', 'now', '£', '15.00(£15.00/75c3)Add70clAny', '2', 'for', '£', '20View', 'allGordon', \"'s\", 'Premium', 'Pink', 'Distilled', 'Gin', '★', '★', '★', '★', '★', '★', '★', '★', '★', '★', '(50', '+', ')', 'now', '£', '13.00(£18.57', '/', 'lt)Add350gNutella', 'Hazelnut', 'Chocolate', 'spread', '★', '★', '★', '★', '★', '★', '★', '★', '★', '★', '(12)RollBackwas', '\\xa0', '£', '2.90', 'now', '(', '57.1p/100g)Add6pkMr', 'Kipling', 'Deep', 'Filled', 'Mince', 'Pies', '★', '★', '★', '★', '★', '★', '★', '★', '★', '★', '(17)RollBackwas', '\\xa0', '£', '1.50', 'now', '(', '16.2p', '/', 'each)Add70clBaileys', 'Irish', 'Cream', 'Liqueur', '★', '★', '★', '★', '★', '★', '★', '★', '★', '★', '(50+)RollBackwas', '\\xa0', '£', '15.00', 'now', '(', '£', '14.29', '/', 'lt)Add70clAny', '2', 'for', '£', '20View', 'allSmirnoff', 'Raspberry', 'Crush', 'Flavoured', 'Vodka', '★', '★', '★', '★', '★', '★', '★', '★', '★', '★', '(14)RollBackwas', '\\xa0', '£', '17.00', 'now', '(', '£', '18.57', '/', 'lt)Add10x330Any', '2', 'for', '£', '20View', 'allPeroni', 'Nastro', 'Azzurro', 'Lager', '★', '★', '★', '★', '★', '★', '★', '★', '★', '★', '(20', ')', 'now', '£', '13.00(£3.94', '/', 'lt)Addper', 'kgASDA', 'Butcher', \"'s\", 'Selection', 'Lamb', 'Leg', 'Bone', 'In', 'Joint', '(', 'Typically', '2.15kg)', '★', '★', '★', '★', '★', '★', '★', '★', '★', '★', '(50+)RollBack', 'now', '£', '13.97', 'was', '\\xa0', '£', '9.00', '/kg(£6.50', '/', 'kg)Add5pkAny', '2', 'for', '£', '3.98View', 'allPro', 'SFE', 'Disposable', 'Face', 'Coverings', '5', 'Pack', '★', '★', '★', '★', '★', '★', '★', '★', '★', '★', '(7', ')', 'now', '£', '3.98(79.6p', '/', 'each)Addeach3', ' ', 'for', ' ', '2View', 'allLynx', 'Africa', 'Duo', 'Gift', 'Set', 'now', '£', '3.00(£3.00', '/', 'each)Add70clAny', '2', 'for', '£', '20View', 'allBacardí', 'Spiced', 'Premium', 'Rum', 'Spirit', 'Drink', '★', '★', '★', '★', '★', '★', '★', '★', '★', '★', '(50', '+', ')', 'now', '£', '13.00(£18.57', '/', 'lt)Add18x440Any', '2', 'for', '£', '20View', 'allCarling', 'Lager', '18', 'Pack', '★', '★', '★', '★', '★', '★', '★', '★', '★', '★', '(50', '+', ')', 'now', '£', '11.97(£1.51', '/', 'lt)Addeach3', ' ', 'for', ' ', '2View', 'allDove', 'Radiantly', 'Refreshing', 'Body', 'Wash', 'Collection', 'Gift', 'Set', 'now', '£', '3.49(£3.49', '/', 'each)AddOffersFresh', 'Food', '&', 'BakeryVegan', '&', 'Plant', 'BasedDonate', 'to', 'BBC', 'Children', 'in', 'NeedFood', 'CupboardBed', ',', 'Bath', '&', 'HomeOur', 'most', 'popular', 'recipesMince', 'piesGive', 'this', 'traditional', 'favourite', 'a', 'delicious', 'new', 'twist', 'with', 'our', 'alternative', 'toppings.50', 'min3', 'ingredientsCamembert', 'and', 'herby', 'bread', 'wheelAn', 'impressive', 'tear', '-', 'and', '-', 'share', '-', 'just', 'pull', 'off', 'a', 'piece', 'and', 'dip', 'it', 'in35', 'min9', 'ingredients900gQuality', 'Street', 'Chocolate', 'Gift', 'Tin', '★', '★', '★', '★', '★', '★', '★', '★', '★', '★', '(12', ')', 'now', '£', '7.00(77.8p/100g)Add4', 'pintASDA', 'Semi', 'Skimmed', 'Milk', '★', '★', '★', '★', '★', '★', '★', '★', '★', '★', '(50', '+', ')', 'now', '£', '1.15(50.7p', '/', 'lt)Add9pkAny', '2', 'for', '£', '6View', 'allASDA', 'Shades', 'Coconut', 'Toilet', 'Roll', '9', 'Roll', '★', '★', '★', '★', '★', '★', '★', '★', '★', '★', '(50', '+', ')', 'now', '£', '3.75(41.7p', '/', 'each)Add100gASDA', 'Extra', 'Special', 'Serrano', 'Ham', '★', '★', '★', '★', '★', '★', '★', '★', '★', '★', '(14)RollBackwas', '\\xa0', '£', '2.25', 'now', '(', '£', '2.00/100g)Add550gHungry', 'Joe', \"'s\", 'Triple', 'Cheese', '&', 'Pepperoni', 'Lasagne', '★', '★', '★', '★', '★', '★', '★', '★', '★', '★', '(43)RollBackwas', '\\xa0', '£', '2.30', 'now', '(', '£', '3.64', '/', 'kg)Add150gASDA', 'Extra', 'Special', 'Houmous', 'Topped', 'with', 'Middle', 'Eastern', 'Inspired', 'Chickpeas', '★', '★', '★', '★', '★', '★', '★', '★', '★', '★', '(3)New', 'now', '£', '1.19(79.3p/100g)Add50clCointreau', 'Orange', 'Liqueur', 'Triple', 'Sec', '★', '★', '★', '★', '★', '★', '★', '★', '★', '★', '(50+)RollBackwas', '\\xa0', '£', '15.00', 'now', '(', '£', '26.00', '/', 'lt)Add12pkStarbucks', 'Toffee', 'Nut', 'Latte', 'by', 'Dolce', 'Gusto', 'Coffee', 'Pods', '★', '★', '★', '★', '★', '★', '★', '★', '★', '★', '(15', ')', 'now', '£', '3.50(£2.74/100g)AddIf', 'you', 'look', 'under', '25', 'and', 'want', 'to', 'purchase', 'age', 'restricted', 'products', 'you', 'will', 'need', 'to', 'prove', 'your', 'age', '.', 'Challenge', '25', '.', 'No', 'ID', ',', 'no', 'sale', '.', 'Retailers', 'have', 'the', 'right', 'to', 'refuse', 'sale', 'if', 'they', 'believe', 'you', 'to', 'be', 'under', 'the', 'legal', 'age', '.', 'For', 'more', 'information', ',', 'visit', 'drinkaware.co.uk', '.', '\\n\\n\\n', 'Retailers', 'selling', 'or', 'supplying', 'alcohol', 'below', 'the', 'minimum', 'price', 'will', 'be', 'breaking', 'the', 'law', '.', 'Offers', 'and', 'pricing', 'may', 'therefore', 'vary', 'on', 'alcohol', 'in', 'Scotland', 'and', 'Wales', '.', 'Prices', 'in', 'Scotland', 'and', 'Wales', 'may', 'vary', '.', 'Challenge', '25', '.', 'No', 'ID', ',', 'no', 'sale', '.', 'Be', 'drinkaware.co.uk', '.', 'Cheapest', 'basket', '24', 'years', 'running', '\\n      ', 'Awarded', 'by', 'the', 'The', 'Grocer', 'magazine', '.', 'Comparison', 'with', 'Morrisons', ',', 'Tesco', ',', '\\n      ', 'Sainsbury', '’s', 'and', 'Waitrose', '.', '\\n    ', 'Fill', 'your', 'trolley', 'faster', '\\n      ', 'Use', 'your', 'Favourites', 'or', 'Previous', 'orders', 'to', 'speed', 'up', 'your', 'shop', '.', '\\n    ', 'Online', 'Supermarket', 'of', 'the', 'Year', '\\n      ', 'Get', 'in', '!', 'We', '’re', 'Online', 'Supermarket', 'of', 'the', 'Year', 'for', 'the', 'second', 'year', 'running', '.', '\\n      ', 'Awarded', 'by', 'the', 'Grocer', 'Gold', 'Awards', '2021', '.', '\\n    ', 'Back', 'to', 'topWebsite', 'FeedbackAbout', 'AsdaOpens', 'a', 'new', 'windowOpens', 'a', 'new', 'windowOpens', 'a', 'new', 'windowMore', 'Asda', 'WebsitesOpens', 'a', 'new', 'windowOpens', 'a', 'new', 'windowOpens', 'a', 'new', 'windowOpens', 'a', 'new', 'windowOpens', 'a', 'new', 'windowOpens', 'a', 'new', 'windowOpens', 'a', 'new', 'windowOpens', 'a', 'new', 'windowOpens', 'a', 'new', 'windowOpens', 'a', 'new', 'windowOpens', 'a', 'new', 'windowOpens', 'a', 'new', 'windowOpens', 'a', 'new', 'windowHelp', '&', 'Customer', 'service', 'Ask', 'AsdaOpens', 'a', 'new', 'windowOpens', 'a', 'new', 'windowFacebookOpens', 'a', 'new', 'windowTwitterOpens', 'a', 'new', 'windowOpens', 'a', 'new', 'windowOpens', 'a', 'new', 'windowOpens', 'a', 'new', 'windowCookie', 'Settings', '<', 'iframe', 'src=\"//s.thebrighttag.com', '/', 'iframe?c', '=', 'eI7jAuz', '\"', 'width=\"1', '\"', 'height=\"1', '\"', 'frameborder=\"0', '\"', 'scrolling=\"no', '\"', 'marginheight=\"0', '\"', 'marginwidth=\"0\"></iframe', '>']\n"
     ]
    },
    {
     "data": {
      "text/plain": [
       "'<iframe src=\"https://www.googletagmanager.com/ns.html?id=GTM-MDCJ74D\" height=\"0\" width=\"0\" style=\"display: none;visibility: hidden\"></iframe>'"
      ]
     },
     "execution_count": 232,
     "metadata": {},
     "output_type": "execute_result"
    }
   ],
   "source": [
    "print(most_sim)\n",
    "# pprint([soup.find_all(text=text) for text,text_sim in most_sim])\n",
    "print(matchTexts)\n",
    "tagNavStr"
   ]
  },
  {
   "cell_type": "code",
   "execution_count": 147,
   "metadata": {},
   "outputs": [
    {
     "name": "stdout",
     "output_type": "stream",
     "text": [
      "[('grocery', 'Groceries'), ('be', 'are'), ('the', 'the'), ('good', 'best')]\n",
      "[('fage', 'Fage'), ('Total', 'Total'), ('Fat', 'Fat'), ('free', 'Free'), ('Greek', 'Greek'), ('Recipe', 'Recipe'), ('Natural', 'Natural'), ('Yogurt', 'Yogurt'), ('-', '-'), ('ASDA', 'ASDA'), ('Groceries', 'Groceries'), ('\\n\\n\\n\\n\\n', '\\n\\n\\n\\n\\n'), ('<', '<'), ('iframe', 'iframe'), ('src=\"https://www.googletagmanager.com', 'src=\"https://www.googletagmanager.com'), ('/', '/'), ('ns.html?id', 'ns.html?id'), ('=', '='), ('GTM', 'GTM'), ('-', '-'), ('mdcj74d', 'MDCJ74D'), ('\"', '\"'), ('height=\"0', 'height=\"0'), ('\"', '\"')]\n"
     ]
    }
   ],
   "source": [
    "print([(tkn.lemma_,tkn.text) for ind,tkn in enumerate(nlp('Groceries are the best'))])\n",
    "\n",
    "# Cant use lemmatisation, as the word is not within a sentence, so there is no context\n",
    "print([(tkn.lemma_,tkn.text)  for ind,tkn in enumerate(nlp(allText[:150]))]) "
   ]
  },
  {
   "cell_type": "code",
   "execution_count": 121,
   "id": "2845dffb",
   "metadata": {},
   "outputs": [
    {
     "data": {
      "text/plain": [
       "[]"
      ]
     },
     "execution_count": 121,
     "metadata": {},
     "output_type": "execute_result"
    }
   ],
   "source": [
    "soup.findAll(re.compile('h[1234]|a|button|span'),text=re.compile('(G|g)rocer(y|ies)')) # Locate the Groceries button in the html using the xpath\n"
   ]
  },
  {
   "cell_type": "code",
   "execution_count": 119,
   "metadata": {},
   "outputs": [
    {
     "data": {
      "text/plain": [
       "[<selenium.webdriver.remote.webelement.WebElement (session=\"9998D5F5-D4C1-4234-AD36-FE0A98B69972\", element=\"node-CA3ECBF1-A85B-4BDD-B496-94BEEB6D369F\")>]"
      ]
     },
     "execution_count": 119,
     "metadata": {},
     "output_type": "execute_result"
    }
   ],
   "source": [
    "driver.find_elements_by_xpath(\"//*[text()='Groceries']\")"
   ]
  },
  {
   "cell_type": "code",
   "execution_count": null,
   "metadata": {},
   "outputs": [],
   "source": []
  }
 ],
 "metadata": {
  "interpreter": {
   "hash": "9f4003a6f4f4930cec957c503d403f367cb04c65d97ce44169013cc6cb2a3350"
  },
  "kernelspec": {
   "display_name": "Python 3.9.7 64-bit ('nlp1': conda)",
   "language": "python",
   "name": "python3"
  },
  "language_info": {
   "codemirror_mode": {
    "name": "ipython",
    "version": 3
   },
   "file_extension": ".py",
   "mimetype": "text/x-python",
   "name": "python",
   "nbconvert_exporter": "python",
   "pygments_lexer": "ipython3",
   "version": "3.9.7"
  },
  "orig_nbformat": 4
 },
 "nbformat": 4,
 "nbformat_minor": 2
}
